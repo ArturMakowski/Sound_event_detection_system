{
 "cells": [
  {
   "cell_type": "code",
   "execution_count": 87,
   "metadata": {},
   "outputs": [],
   "source": [
    "from desed_task.dataio import StronglyAnnotatedSet, WeakSet, UnlabeledSet\n",
    "import pandas as pd\n",
    "import numpy as np\n",
    "import yaml\n",
    "\n",
    "import sys\n",
    "sys.path.append('../')\n",
    "from encoder import ManyHotEncoder\n"
   ]
  },
  {
   "cell_type": "code",
   "execution_count": 88,
   "metadata": {},
   "outputs": [],
   "source": [
    "with open(\"../master_src/params.yaml\", \"r\") as f:\n",
    "    configs = yaml.safe_load(f)"
   ]
  },
  {
   "cell_type": "code",
   "execution_count": 89,
   "metadata": {},
   "outputs": [
    {
     "name": "stdout",
     "output_type": "stream",
     "text": [
      "                         filename  onset  offset         event_label\n",
      "0   Y--OMDPXfO6o_9.000_19.000.wav  0.000   9.785  Alarm_bell_ringing\n",
      "1   Y--OMDPXfO6o_9.000_19.000.wav  1.556   9.415              Speech\n",
      "2  Y--dr8rXrv8k_23.000_33.000.wav  1.667   2.657              Speech\n",
      "3  Y--dr8rXrv8k_23.000_33.000.wav  0.000   0.541              Speech\n",
      "4  Y--dr8rXrv8k_23.000_33.000.wav  2.849   3.480                 Cat\n",
      "                         filename               event_labels\n",
      "0  YKK227gPpRn4_30.000_40.000.wav  Alarm_bell_ringing,Speech\n",
      "1   Y-6p32k2WUCs_0.000_10.000.wav         Alarm_bell_ringing\n",
      "2    Y-Zjgm_sZd10_0.000_4.000.wav         Alarm_bell_ringing\n",
      "3    Y-ikrSfqB0LU_0.000_3.000.wav         Alarm_bell_ringing\n",
      "4   Y26ubekDhG_Y_0.000_10.000.wav         Alarm_bell_ringing\n",
      "                         filename\n",
      "0  Y--CE2f-ttEQ_30.000_40.000.wav\n",
      "1  Y--ERHDSdxGQ_30.000_40.000.wav\n",
      "2  Y-0A1_JR5f34_16.000_26.000.wav\n",
      "3  Y-0BScjoz3Z0_10.000_20.000.wav\n",
      "4  Y-0nSANmuPxU_10.000_20.000.wav\n"
     ]
    }
   ],
   "source": [
    "tsv_entries_strong = pd.read_csv(configs[\"data\"][\"strong_tsv\"], sep = '\\t')\n",
    "tsv_entries_weak = pd.read_csv(configs[\"data\"][\"weak_tsv\"], sep = '\\t')\n",
    "tsv_entries_unlabeled = pd.read_csv(configs[\"data\"][\"unlabeled_tsv\"], sep = '\\t')\n",
    "print(tsv_entries_strong.head())\n",
    "print(tsv_entries_weak.head())\n",
    "print(tsv_entries_unlabeled.head())"
   ]
  },
  {
   "cell_type": "code",
   "execution_count": 90,
   "metadata": {},
   "outputs": [
    {
     "data": {
      "text/plain": [
       "['Alarm_bell_ringing',\n",
       " 'Blender',\n",
       " 'Cat',\n",
       " 'Dishes',\n",
       " 'Dog',\n",
       " 'Electric_shaver_toothbrush',\n",
       " 'Frying',\n",
       " 'Running_water',\n",
       " 'Speech',\n",
       " 'Vacuum_cleaner']"
      ]
     },
     "execution_count": 90,
     "metadata": {},
     "output_type": "execute_result"
    }
   ],
   "source": [
    "labels = sorted(tsv_entries_strong.event_label.unique().tolist())\n",
    "labels"
   ]
  },
  {
   "cell_type": "code",
   "execution_count": 91,
   "metadata": {},
   "outputs": [
    {
     "data": {
      "text/plain": [
       "618"
      ]
     },
     "execution_count": 91,
     "metadata": {},
     "output_type": "execute_result"
    }
   ],
   "source": [
    "encoder = ManyHotEncoder(labels, \n",
    "                         audio_len=configs[\"data\"][\"audio_max_len\"], \n",
    "                         frame_len=configs[\"feats\"][\"n_window\"], \n",
    "                         frame_hop=configs[\"feats\"][\"hop_length\"],\n",
    "                         fs=configs[\"feats\"][\"sample_rate\"],\n",
    "                         net_pooling=configs[\"data\"][\"net_subsample\"])\n",
    "encoder.n_frames"
   ]
  },
  {
   "cell_type": "code",
   "execution_count": 92,
   "metadata": {},
   "outputs": [
    {
     "name": "stdout",
     "output_type": "stream",
     "text": [
      "(618, 10) [[1. 1. 1. ... 1. 1. 1.]\n",
      " [1. 1. 1. ... 1. 1. 1.]\n",
      " [1. 1. 1. ... 1. 1. 1.]\n",
      " ...\n",
      " [1. 1. 1. ... 1. 1. 1.]\n",
      " [1. 1. 1. ... 1. 1. 1.]\n",
      " [1. 1. 1. ... 1. 1. 1.]]\n"
     ]
    }
   ],
   "source": [
    "print(encoder.encode_strong_df(tsv_entries_strong).shape, encoder.encode_strong_df(tsv_entries_strong))"
   ]
  },
  {
   "cell_type": "code",
   "execution_count": 93,
   "metadata": {},
   "outputs": [],
   "source": [
    "dataset_strong = StronglyAnnotatedSet(audio_folder = configs[\"data\"][\"strong_folder_44k\"], \n",
    "                                  tsv_entries = tsv_entries_strong, \n",
    "                                  encoder=encoder)"
   ]
  },
  {
   "cell_type": "code",
   "execution_count": 94,
   "metadata": {},
   "outputs": [
    {
     "data": {
      "text/plain": [
       "torch.Size([10, 618])"
      ]
     },
     "execution_count": 94,
     "metadata": {},
     "output_type": "execute_result"
    }
   ],
   "source": [
    "dataset_strong[0][1].shape"
   ]
  },
  {
   "cell_type": "code",
   "execution_count": 95,
   "metadata": {},
   "outputs": [
    {
     "data": {
      "text/plain": [
       "{'mixture': '/mnt/d/DESED_dataset/audio/train/strong_label_real/Y--OMDPXfO6o_9.000_19.000.wav',\n",
       " 'events': [{'event_label': 'Alarm_bell_ringing',\n",
       "   'onset': 0.0,\n",
       "   'offset': 9.785},\n",
       "  {'event_label': 'Speech', 'onset': 1.556, 'offset': 9.415}]}"
      ]
     },
     "execution_count": 95,
     "metadata": {},
     "output_type": "execute_result"
    }
   ],
   "source": [
    "dataset_strong.examples[dataset_strong.examples_list[0]]"
   ]
  },
  {
   "cell_type": "code",
   "execution_count": 96,
   "metadata": {},
   "outputs": [],
   "source": [
    "dataset_weak = WeakSet(audio_folder = '/mnt/d/DESED_dataset/audio/train/weak/',\n",
    "                       tsv_entries=tsv_entries_weak, \n",
    "                       encoder=encoder)"
   ]
  },
  {
   "cell_type": "code",
   "execution_count": 97,
   "metadata": {},
   "outputs": [
    {
     "data": {
      "text/plain": [
       "([tensor([-0.0231, -0.0146, -0.0064,  ...,  0.0057,  0.0065,  0.0091]),\n",
       "  tensor([[1., 0., 0.,  ..., 0., 0., 0.],\n",
       "          [0., 0., 0.,  ..., 0., 0., 0.],\n",
       "          [0., 0., 0.,  ..., 0., 0., 0.],\n",
       "          ...,\n",
       "          [0., 0., 0.,  ..., 0., 0., 0.],\n",
       "          [1., 0., 0.,  ..., 0., 0., 0.],\n",
       "          [0., 0., 0.,  ..., 0., 0., 0.]]),\n",
       "  [1.0]],\n",
       " {'mixture': '/mnt/d/DESED_dataset/audio/train/weak/YKK227gPpRn4_30.000_40.000.wav',\n",
       "  'events': ['Alarm_bell_ringing', 'Speech']})"
      ]
     },
     "execution_count": 97,
     "metadata": {},
     "output_type": "execute_result"
    }
   ],
   "source": [
    "dataset_weak[0], dataset_weak.examples['YKK227gPpRn4_30.000_40.000.wav']"
   ]
  },
  {
   "cell_type": "code",
   "execution_count": 98,
   "metadata": {},
   "outputs": [],
   "source": [
    "dataset_unlabeled = UnlabeledSet(unlabeled_folder = '/mnt/d/DESED_dataset/audio/train/unlabel_in_domain/', \n",
    "                                 encoder=encoder)"
   ]
  },
  {
   "cell_type": "code",
   "execution_count": 99,
   "metadata": {},
   "outputs": [
    {
     "data": {
      "text/plain": [
       "[tensor([-0.0507, -0.0507, -0.0507,  ..., -0.0370, -0.0303, -0.0239]),\n",
       " tensor([[0., 0., 0.,  ..., 0., 0., 0.],\n",
       "         [0., 0., 0.,  ..., 0., 0., 0.],\n",
       "         [0., 0., 0.,  ..., 0., 0., 0.],\n",
       "         ...,\n",
       "         [0., 0., 0.,  ..., 0., 0., 0.],\n",
       "         [0., 0., 0.,  ..., 0., 0., 0.],\n",
       "         [0., 0., 0.,  ..., 0., 0., 0.]]),\n",
       " [1.0]]"
      ]
     },
     "execution_count": 99,
     "metadata": {},
     "output_type": "execute_result"
    }
   ],
   "source": [
    "dataset_unlabeled[0]"
   ]
  },
  {
   "cell_type": "markdown",
   "metadata": {},
   "source": [
    "# Mel spectrogram"
   ]
  },
  {
   "cell_type": "code",
   "execution_count": 100,
   "metadata": {},
   "outputs": [],
   "source": [
    "from torchaudio.transforms import MelSpectrogram, Spectrogram\n",
    "import torch"
   ]
  },
  {
   "cell_type": "code",
   "execution_count": 101,
   "metadata": {},
   "outputs": [],
   "source": [
    "mel_spec = MelSpectrogram(\n",
    "    sample_rate=configs[\"feats\"][\"sample_rate\"],\n",
    "    n_fft=configs[\"feats\"][\"n_window\"],\n",
    "    win_length=configs[\"feats\"][\"n_window\"],\n",
    "    hop_length=configs[\"feats\"][\"hop_length\"],\n",
    "    f_min=configs[\"feats\"][\"f_min\"],\n",
    "    f_max=configs[\"feats\"][\"f_max\"],\n",
    "    n_mels=configs[\"feats\"][\"n_mels\"],\n",
    "    window_fn=torch.hamming_window,\n",
    "    wkwargs={\"periodic\": False},\n",
    "    power=1,\n",
    "    center=False\n",
    ")"
   ]
  },
  {
   "cell_type": "code",
   "execution_count": 102,
   "metadata": {},
   "outputs": [],
   "source": [
    "spectrogram = Spectrogram(\n",
    "    n_fft=configs[\"feats\"][\"n_window\"],\n",
    "    win_length=configs[\"feats\"][\"n_window\"],\n",
    "    hop_length=configs[\"feats\"][\"hop_length\"],\n",
    "    window_fn=torch.hamming_window,\n",
    "    pad = 0,\n",
    "    # wkwargs={\"periodic\": False},\n",
    "    power=1,\n",
    "    center=False\n",
    ")"
   ]
  },
  {
   "cell_type": "code",
   "execution_count": 103,
   "metadata": {},
   "outputs": [
    {
     "data": {
      "text/plain": [
       "torch.Size([160000])"
      ]
     },
     "execution_count": 103,
     "metadata": {},
     "output_type": "execute_result"
    }
   ],
   "source": [
    "dataset_strong[0][0].shape"
   ]
  },
  {
   "cell_type": "code",
   "execution_count": 104,
   "metadata": {},
   "outputs": [
    {
     "data": {
      "text/plain": [
       "torch.Size([128, 618])"
      ]
     },
     "execution_count": 104,
     "metadata": {},
     "output_type": "execute_result"
    }
   ],
   "source": [
    "mel_spec(dataset_strong[0][0]).shape"
   ]
  },
  {
   "cell_type": "code",
   "execution_count": 105,
   "metadata": {},
   "outputs": [
    {
     "data": {
      "text/plain": [
       "torch.Size([1025, 618])"
      ]
     },
     "execution_count": 105,
     "metadata": {},
     "output_type": "execute_result"
    }
   ],
   "source": [
    "spec = spectrogram(dataset_strong[0][0])\n",
    "spectrogram(dataset_strong[0][0]).shape"
   ]
  }
 ],
 "metadata": {
  "kernelspec": {
   "display_name": "dcase2023",
   "language": "python",
   "name": "python3"
  },
  "language_info": {
   "codemirror_mode": {
    "name": "ipython",
    "version": 3
   },
   "file_extension": ".py",
   "mimetype": "text/x-python",
   "name": "python",
   "nbconvert_exporter": "python",
   "pygments_lexer": "ipython3",
   "version": "3.8.5"
  },
  "orig_nbformat": 4
 },
 "nbformat": 4,
 "nbformat_minor": 2
}
