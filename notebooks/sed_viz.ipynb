{
 "cells": [
  {
   "cell_type": "code",
   "execution_count": 2,
   "metadata": {},
   "outputs": [
    {
     "name": "stderr",
     "output_type": "stream",
     "text": [
      "[E] AudioContainer: File does not exists [tests/data/a001.wav] \t(audio.py:887)\n",
      "NoneType: None\n"
     ]
    },
    {
     "ename": "OSError",
     "evalue": "AudioContainer: File does not exists [tests/data/a001.wav]",
     "output_type": "error",
     "traceback": [
      "\u001b[0;31m---------------------------------------------------------------------------\u001b[0m",
      "\u001b[0;31mOSError\u001b[0m                                   Traceback (most recent call last)",
      "\u001b[1;32m/home/armak/Python_projects_WSL/DESED_task/_master_thesis/EDA/sed_viz.ipynb Cell 1\u001b[0m line \u001b[0;36m5\n\u001b[1;32m      <a href='vscode-notebook-cell://wsl%2Bubuntu/home/armak/Python_projects_WSL/DESED_task/_master_thesis/EDA/sed_viz.ipynb#W0sdnNjb2RlLXJlbW90ZQ%3D%3D?line=1'>2</a>\u001b[0m \u001b[39mimport\u001b[39;00m \u001b[39mdcase_util\u001b[39;00m\n\u001b[1;32m      <a href='vscode-notebook-cell://wsl%2Bubuntu/home/armak/Python_projects_WSL/DESED_task/_master_thesis/EDA/sed_viz.ipynb#W0sdnNjb2RlLXJlbW90ZQ%3D%3D?line=3'>4</a>\u001b[0m \u001b[39m# Load audio signal first\u001b[39;00m\n\u001b[0;32m----> <a href='vscode-notebook-cell://wsl%2Bubuntu/home/armak/Python_projects_WSL/DESED_task/_master_thesis/EDA/sed_viz.ipynb#W0sdnNjb2RlLXJlbW90ZQ%3D%3D?line=4'>5</a>\u001b[0m audio_container \u001b[39m=\u001b[39m dcase_util\u001b[39m.\u001b[39;49mcontainers\u001b[39m.\u001b[39;49mAudioContainer()\u001b[39m.\u001b[39;49mload(\n\u001b[1;32m      <a href='vscode-notebook-cell://wsl%2Bubuntu/home/armak/Python_projects_WSL/DESED_task/_master_thesis/EDA/sed_viz.ipynb#W0sdnNjb2RlLXJlbW90ZQ%3D%3D?line=5'>6</a>\u001b[0m     \u001b[39m'\u001b[39;49m\u001b[39mtests/data/a001.wav\u001b[39;49m\u001b[39m'\u001b[39;49m\n\u001b[1;32m      <a href='vscode-notebook-cell://wsl%2Bubuntu/home/armak/Python_projects_WSL/DESED_task/_master_thesis/EDA/sed_viz.ipynb#W0sdnNjb2RlLXJlbW90ZQ%3D%3D?line=6'>7</a>\u001b[0m )\n\u001b[1;32m      <a href='vscode-notebook-cell://wsl%2Bubuntu/home/armak/Python_projects_WSL/DESED_task/_master_thesis/EDA/sed_viz.ipynb#W0sdnNjb2RlLXJlbW90ZQ%3D%3D?line=8'>9</a>\u001b[0m \u001b[39m# Load event lists\u001b[39;00m\n\u001b[1;32m     <a href='vscode-notebook-cell://wsl%2Bubuntu/home/armak/Python_projects_WSL/DESED_task/_master_thesis/EDA/sed_viz.ipynb#W0sdnNjb2RlLXJlbW90ZQ%3D%3D?line=9'>10</a>\u001b[0m reference_event_list \u001b[39m=\u001b[39m dcase_util\u001b[39m.\u001b[39mcontainers\u001b[39m.\u001b[39mMetaDataContainer()\u001b[39m.\u001b[39mload(\n\u001b[1;32m     <a href='vscode-notebook-cell://wsl%2Bubuntu/home/armak/Python_projects_WSL/DESED_task/_master_thesis/EDA/sed_viz.ipynb#W0sdnNjb2RlLXJlbW90ZQ%3D%3D?line=10'>11</a>\u001b[0m     \u001b[39m'\u001b[39m\u001b[39mtests/data/a001.ann\u001b[39m\u001b[39m'\u001b[39m\n\u001b[1;32m     <a href='vscode-notebook-cell://wsl%2Bubuntu/home/armak/Python_projects_WSL/DESED_task/_master_thesis/EDA/sed_viz.ipynb#W0sdnNjb2RlLXJlbW90ZQ%3D%3D?line=11'>12</a>\u001b[0m )\n",
      "File \u001b[0;32m~/anaconda3/envs/dcase2023/lib/python3.8/site-packages/dcase_util/containers/audio.py:888\u001b[0m, in \u001b[0;36mAudioContainer.load\u001b[0;34m(self, filename, fs, mono, res_type, start, stop, auto_trimming)\u001b[0m\n\u001b[1;32m    882\u001b[0m     message \u001b[39m=\u001b[39m \u001b[39m'\u001b[39m\u001b[39m{name}\u001b[39;00m\u001b[39m: File does not exists [\u001b[39m\u001b[39m{file}\u001b[39;00m\u001b[39m]\u001b[39m\u001b[39m'\u001b[39m\u001b[39m.\u001b[39mformat(\n\u001b[1;32m    883\u001b[0m         name\u001b[39m=\u001b[39m\u001b[39mself\u001b[39m\u001b[39m.\u001b[39m\u001b[39m__class__\u001b[39m\u001b[39m.\u001b[39m\u001b[39m__name__\u001b[39m,\n\u001b[1;32m    884\u001b[0m         file\u001b[39m=\u001b[39m\u001b[39mself\u001b[39m\u001b[39m.\u001b[39mfilename\n\u001b[1;32m    885\u001b[0m     )\n\u001b[1;32m    887\u001b[0m     \u001b[39mself\u001b[39m\u001b[39m.\u001b[39mlogger\u001b[39m.\u001b[39mexception(message)\n\u001b[0;32m--> 888\u001b[0m     \u001b[39mraise\u001b[39;00m \u001b[39mIOError\u001b[39;00m(message)\n\u001b[1;32m    890\u001b[0m \u001b[39m# Check if after load function is defined, call if found\u001b[39;00m\n\u001b[1;32m    891\u001b[0m \u001b[39mif\u001b[39;00m \u001b[39mhasattr\u001b[39m(\u001b[39mself\u001b[39m, \u001b[39m'\u001b[39m\u001b[39m_after_load\u001b[39m\u001b[39m'\u001b[39m):\n",
      "\u001b[0;31mOSError\u001b[0m: AudioContainer: File does not exists [tests/data/a001.wav]"
     ]
    }
   ],
   "source": [
    "import sed_vis\n",
    "import dcase_util\n",
    "\n",
    "# Load audio signal first\n",
    "audio_container = dcase_util.containers.AudioContainer().load(\n",
    "    'tests/data/a001.wav'\n",
    ")\n",
    "\n",
    "# Load event lists\n",
    "reference_event_list = dcase_util.containers.MetaDataContainer().load(\n",
    "    'tests/data/a001.ann'\n",
    ")\n",
    "estimated_event_list = dcase_util.containers.MetaDataContainer().load(\n",
    "    'tests/data/a001_system_output.ann'\n",
    ")\n",
    "\n",
    "event_lists = {\n",
    "    'reference': reference_event_list, \n",
    "    'estimated': estimated_event_list\n",
    "}\n",
    "\n",
    "# Visualize the data\n",
    "vis = sed_vis.visualization.EventListVisualizer(event_lists=event_lists,\n",
    "                                                audio_signal=audio_container.data,\n",
    "                                                sampling_rate=audio_container.fs)\n",
    "vis.show()"
   ]
  }
 ],
 "metadata": {
  "kernelspec": {
   "display_name": "dcase2023",
   "language": "python",
   "name": "python3"
  },
  "language_info": {
   "codemirror_mode": {
    "name": "ipython",
    "version": 3
   },
   "file_extension": ".py",
   "mimetype": "text/x-python",
   "name": "python",
   "nbconvert_exporter": "python",
   "pygments_lexer": "ipython3",
   "version": "3.8.5"
  }
 },
 "nbformat": 4,
 "nbformat_minor": 2
}
